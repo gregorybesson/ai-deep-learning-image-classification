{
 "cells": [
  {
   "cell_type": "markdown",
   "metadata": {
    "collapsed": true,
    "deletable": true,
    "editable": true
   },
   "source": [
    "# Image Classification\n",
    "In this project, you'll classify images from the [CIFAR-10 dataset](https://www.cs.toronto.edu/~kriz/cifar.html).  The dataset consists of airplanes, dogs, cats, and other objects. You'll preprocess the images, then train a convolutional neural network on all the samples. The images need to be normalized and the labels need to be one-hot encoded.  You'll get to apply what you learned and build a convolutional, max pooling, dropout, and fully connected layers.  At the end, you'll get to see your neural network's predictions on the sample images.\n",
    "## Get the Data\n",
    "Run the following cell to download the [CIFAR-10 dataset for python](https://www.cs.toronto.edu/~kriz/cifar-10-python.tar.gz)."
   ]
  },
  {
   "cell_type": "code",
   "execution_count": 15,
   "metadata": {
    "collapsed": false,
    "deletable": true,
    "editable": true
   },
   "outputs": [
    {
     "name": "stdout",
     "output_type": "stream",
     "text": [
      "All files found!\n"
     ]
    }
   ],
   "source": [
    "\"\"\"\n",
    "DON'T MODIFY ANYTHING IN THIS CELL THAT IS BELOW THIS LINE\n",
    "\"\"\"\n",
    "from urllib.request import urlretrieve\n",
    "from os.path import isfile, isdir\n",
    "from tqdm import tqdm\n",
    "import problem_unittests as tests\n",
    "import tarfile\n",
    "\n",
    "cifar10_dataset_folder_path = 'cifar-10-batches-py'\n",
    "\n",
    "class DLProgress(tqdm):\n",
    "    last_block = 0\n",
    "\n",
    "    def hook(self, block_num=1, block_size=1, total_size=None):\n",
    "        self.total = total_size\n",
    "        self.update((block_num - self.last_block) * block_size)\n",
    "        self.last_block = block_num\n",
    "\n",
    "if not isfile('cifar-10-python.tar.gz'):\n",
    "    with DLProgress(unit='B', unit_scale=True, miniters=1, desc='CIFAR-10 Dataset') as pbar:\n",
    "        urlretrieve(\n",
    "            'https://www.cs.toronto.edu/~kriz/cifar-10-python.tar.gz',\n",
    "            'cifar-10-python.tar.gz',\n",
    "            pbar.hook)\n",
    "\n",
    "if not isdir(cifar10_dataset_folder_path):\n",
    "    with tarfile.open('cifar-10-python.tar.gz') as tar:\n",
    "        tar.extractall()\n",
    "        tar.close()\n",
    "\n",
    "\n",
    "tests.test_folder_path(cifar10_dataset_folder_path)"
   ]
  },
  {
   "cell_type": "markdown",
   "metadata": {
    "deletable": true,
    "editable": true
   },
   "source": [
    "## Explore the Data\n",
    "The dataset is broken into batches to prevent your machine from running out of memory.  The CIFAR-10 dataset consists of 5 batches, named `data_batch_1`, `data_batch_2`, etc.. Each batch contains the labels and images that are one of the following:\n",
    "* airplane\n",
    "* automobile\n",
    "* bird\n",
    "* cat\n",
    "* deer\n",
    "* dog\n",
    "* frog\n",
    "* horse\n",
    "* ship\n",
    "* truck\n",
    "\n",
    "Understanding a dataset is part of making predictions on the data.  Play around with the code cell below by changing the `batch_id` and `sample_id`. The `batch_id` is the id for a batch (1-5). The `sample_id` is the id for a image and label pair in the batch.\n",
    "\n",
    "Ask yourself \"What are all possible labels?\", \"What is the range of values for the image data?\", \"Are the labels in order or random?\".  Answers to questions like these will help you preprocess the data and end up with better predictions."
   ]
  },
  {
   "cell_type": "code",
   "execution_count": 16,
   "metadata": {
    "collapsed": false,
    "deletable": true,
    "editable": true
   },
   "outputs": [
    {
     "name": "stdout",
     "output_type": "stream",
     "text": [
      "\n",
      "Stats of batch 1:\n",
      "Samples: 10000\n",
      "Label Counts: {0: 1005, 1: 974, 2: 1032, 3: 1016, 4: 999, 5: 937, 6: 1030, 7: 1001, 8: 1025, 9: 981}\n",
      "First 20 Labels: [6, 9, 9, 4, 1, 1, 2, 7, 8, 3, 4, 7, 7, 2, 9, 9, 9, 3, 2, 6]\n",
      "\n",
      "Example of Image 270:\n",
      "Image - Min Value: 0 Max Value: 250\n",
      "Image - Shape: (32, 32, 3)\n",
      "Label - Label Id: 9 Name: truck\n"
     ]
    },
    {
     "data": {
      "image/png": "[encoded data removed]",
      "text/plain": [
       "<matplotlib.figure.Figure at 0x7fe2936fb128>"
      ]
     },
     "metadata": {
      "image/png": {
       "height": 250,
       "width": 253
      }
     },
     "output_type": "display_data"
    }
   ],
   "source": [
    "%matplotlib inline\n",
    "%config InlineBackend.figure_format = 'retina'\n",
    "\n",
    "import helper\n",
    "import numpy as np\n",
    "\n",
    "# Explore the dataset\n",
    "batch_id = 1\n",
    "sample_id = 270\n",
    "helper.display_stats(cifar10_dataset_folder_path, batch_id, sample_id)"
   ]
  },
  {
   "cell_type": "markdown",
   "metadata": {
    "deletable": true,
    "editable": true
   },
   "source": [
    "## Implement Preprocess Functions\n",
    "### Normalize\n",
    "In the cell below, implement the `normalize` function to take in image data, `x`, and return it as a normalized Numpy array. The values should be in the range of 0 to 1, inclusive.  The return object should be the same shape as `x`."
   ]
  },
  {
   "cell_type": "code",
   "execution_count": 17,
   "metadata": {
    "collapsed": false,
    "deletable": true,
    "editable": true
   },
   "outputs": [
    {
     "name": "stdout",
     "output_type": "stream",
     "text": [
      "Tests Passed\n"
     ]
    }
   ],
   "source": [
    "def normalize(x):\n",
    "    \"\"\"\n",
    "    Normalize a list of sample image data in the range of 0 to 1\n",
    "    : x: List of image data.  The image shape is (32, 32, 3)\n",
    "    : return: Numpy array of normalize data\n",
    "    \"\"\"\n",
    "    # I'll normalize just by dividing x by 255, which is the number of colors we have in each depth\n",
    "    return x/255\n",
    "\n",
    "\n",
    "\"\"\"\n",
    "DON'T MODIFY ANYTHING IN THIS CELL THAT IS BELOW THIS LINE\n",
    "\"\"\"\n",
    "tests.test_normalize(normalize)"
   ]
  },
  {
   "cell_type": "markdown",
   "metadata": {
    "deletable": true,
    "editable": true
   },
   "source": [
    "### One-hot encode\n",
    "Just like the previous code cell, you'll be implementing a function for preprocessing.  This time, you'll implement the `one_hot_encode` function. The input, `x`, are a list of labels.  Implement the function to return the list of labels as One-Hot encoded Numpy array.  The possible values for labels are 0 to 9. The one-hot encoding function should return the same encoding for each value between each call to `one_hot_encode`.  Make sure to save the map of encodings outside the function.\n",
    "\n",
    "Hint: Don't reinvent the wheel."
   ]
  },
  {
   "cell_type": "code",
   "execution_count": 18,
   "metadata": {
    "collapsed": false,
    "deletable": true,
    "editable": true
   },
   "outputs": [
    {
     "name": "stdout",
     "output_type": "stream",
     "text": [
      "Tests Passed\n"
     ]
    }
   ],
   "source": [
    "def one_hot_encode(x):\n",
    "    \"\"\"\n",
    "    One hot encode a list of sample labels. Return a one-hot encoded vector for each label.\n",
    "    : x: List of sample Labels\n",
    "    : return: Numpy array of one-hot encoded labels\n",
    "    \"\"\"\n",
    "    # TODO: Implement Function\n",
    "    # print(x)\n",
    "    b = np.zeros((len(x), 10))\n",
    "    b[np.arange(len(x)), x] = 1\n",
    "    # print(b)\n",
    "    return b\n",
    "\n",
    "\n",
    "\"\"\"\n",
    "DON'T MODIFY ANYTHING IN THIS CELL THAT IS BELOW THIS LINE\n",
    "\"\"\"\n",
    "tests.test_one_hot_encode(one_hot_encode)"
   ]
  },
  {
   "cell_type": "markdown",
   "metadata": {
    "deletable": true,
    "editable": true
   },
   "source": [
    "### Randomize Data\n",
    "As you saw from exploring the data above, the order of the samples are randomized.  It doesn't hurt to randomize it again, but you don't need to for this dataset."
   ]
  },
  {
   "cell_type": "markdown",
   "metadata": {
    "deletable": true,
    "editable": true
   },
   "source": [
    "## Preprocess all the data and save it\n",
    "Running the code cell below will preprocess all the CIFAR-10 data and save it to file. The code below also uses 10% of the training data for validation."
   ]
  },
  {
   "cell_type": "code",
   "execution_count": 19,
   "metadata": {
    "collapsed": false,
    "deletable": true,
    "editable": true
   },
   "outputs": [],
   "source": [
    "\"\"\"\n",
    "DON'T MODIFY ANYTHING IN THIS CELL\n",
    "\"\"\"\n",
    "# Preprocess Training, Validation, and Testing Data\n",
    "helper.preprocess_and_save_data(cifar10_dataset_folder_path, normalize, one_hot_encode)"
   ]
  },
  {
   "cell_type": "markdown",
   "metadata": {
    "deletable": true,
    "editable": true
   },
   "source": [
    "# Check Point\n",
    "This is your first checkpoint.  If you ever decide to come back to this notebook or have to restart the notebook, you can start from here.  The preprocessed data has been saved to disk."
   ]
  },
  {
   "cell_type": "code",
   "execution_count": 20,
   "metadata": {
    "collapsed": true,
    "deletable": true,
    "editable": true
   },
   "outputs": [],
   "source": [
    "\"\"\"\n",
    "DON'T MODIFY ANYTHING IN THIS CELL\n",
    "\"\"\"\n",
    "import pickle\n",
    "import problem_unittests as tests\n",
    "import helper\n",
    "\n",
    "# Load the Preprocessed Validation data\n",
    "valid_features, valid_labels = pickle.load(open('preprocess_validation.p', mode='rb'))"
   ]
  },
  {
   "cell_type": "markdown",
   "metadata": {
    "deletable": true,
    "editable": true
   },
   "source": [
    "## Build the network\n",
    "For the neural network, you'll build each layer into a function.  Most of the code you've seen has been outside of functions. To test your code more thoroughly, we require that you put each layer in a function.  This allows us to give you better feedback and test for simple mistakes using our unittests before you submit your project.\n",
    "\n",
    ">**Note:** If you're finding it hard to dedicate enough time for this course each week, we've provided a small shortcut to this part of the project. In the next couple of problems, you'll have the option to use classes from the [TensorFlow Layers](https://www.tensorflow.org/api_docs/python/tf/layers) or [TensorFlow Layers (contrib)](https://www.tensorflow.org/api_guides/python/contrib.layers) packages to build each layer, except the layers you build in the \"Convolutional and Max Pooling Layer\" section.  TF Layers is similar to Keras's and TFLearn's abstraction to layers, so it's easy to pickup.\n",
    "\n",
    ">However, if you would like to get the most out of this course, try to solve all the problems _without_ using anything from the TF Layers packages. You **can** still use classes from other packages that happen to have the same name as ones you find in TF Layers! For example, instead of using the TF Layers version of the `conv2d` class, [tf.layers.conv2d](https://www.tensorflow.org/api_docs/python/tf/layers/conv2d), you would want to use the TF Neural Network version of `conv2d`, [tf.nn.conv2d](https://www.tensorflow.org/api_docs/python/tf/nn/conv2d). \n",
    "\n",
    "Let's begin!\n",
    "\n",
    "### Input\n",
    "The neural network needs to read the image data, one-hot encoded labels, and dropout keep probability. Implement the following functions\n",
    "* Implement `neural_net_image_input`\n",
    " * Return a [TF Placeholder](https://www.tensorflow.org/api_docs/python/tf/placeholder)\n",
    " * Set the shape using `image_shape` with batch size set to `None`.\n",
    " * Name the TensorFlow placeholder \"x\" using the TensorFlow `name` parameter in the [TF Placeholder](https://www.tensorflow.org/api_docs/python/tf/placeholder).\n",
    "* Implement `neural_net_label_input`\n",
    " * Return a [TF Placeholder](https://www.tensorflow.org/api_docs/python/tf/placeholder)\n",
    " * Set the shape using `n_classes` with batch size set to `None`.\n",
    " * Name the TensorFlow placeholder \"y\" using the TensorFlow `name` parameter in the [TF Placeholder](https://www.tensorflow.org/api_docs/python/tf/placeholder).\n",
    "* Implement `neural_net_keep_prob_input`\n",
    " * Return a [TF Placeholder](https://www.tensorflow.org/api_docs/python/tf/placeholder) for dropout keep probability.\n",
    " * Name the TensorFlow placeholder \"keep_prob\" using the TensorFlow `name` parameter in the [TF Placeholder](https://www.tensorflow.org/api_docs/python/tf/placeholder).\n",
    "\n",
    "These names will be used at the end of the project to load your saved model.\n",
    "\n",
    "Note: `None` for shapes in TensorFlow allow for a dynamic size."
   ]
  },
  {
   "cell_type": "code",
   "execution_count": 21,
   "metadata": {
    "collapsed": false,
    "deletable": true,
    "editable": true
   },
   "outputs": [
    {
     "name": "stdout",
     "output_type": "stream",
     "text": [
      "Image Input Tests Passed.\n",
      "Label Input Tests Passed.\n",
      "Keep Prob Tests Passed.\n"
     ]
    }
   ],
   "source": [
    "import tensorflow as tf\n",
    "\n",
    "config = tf.ConfigProto()\n",
    "config.gpu_options.allocator_type = 'BFC'\n",
    "\n",
    "def neural_net_image_input(image_shape):\n",
    "    \"\"\"\n",
    "    Return a Tensor for a batch of image input\n",
    "    : image_shape: Shape of the images\n",
    "    : return: Tensor for image input.\n",
    "    \"\"\"\n",
    "    return tf.placeholder(tf.float32, shape=[None, image_shape[0], image_shape[1], image_shape[2]], name='x')\n",
    "\n",
    "\n",
    "def neural_net_label_input(n_classes):\n",
    "    \"\"\"\n",
    "    Return a Tensor for a batch of label input\n",
    "    : n_classes: Number of classes\n",
    "    : return: Tensor for label input.\n",
    "    \"\"\"\n",
    "    return tf.placeholder(tf.float32, shape=[None, n_classes], name='y')\n",
    "\n",
    "\n",
    "def neural_net_keep_prob_input():\n",
    "    \"\"\"\n",
    "    Return a Tensor for keep probability\n",
    "    : return: Tensor for keep probability.\n",
    "    \"\"\"\n",
    "    return tf.placeholder(tf.float32, name='keep_prob')\n",
    "\n",
    "\n",
    "\"\"\"\n",
    "DON'T MODIFY ANYTHING IN THIS CELL THAT IS BELOW THIS LINE\n",
    "\"\"\"\n",
    "tf.reset_default_graph()\n",
    "tests.test_nn_image_inputs(neural_net_image_input)\n",
    "tests.test_nn_label_inputs(neural_net_label_input)\n",
    "tests.test_nn_keep_prob_inputs(neural_net_keep_prob_input)"
   ]
  },
  {
   "cell_type": "markdown",
   "metadata": {
    "deletable": true,
    "editable": true
   },
   "source": [
    "### Convolution and Max Pooling Layer\n",
    "Convolution layers have a lot of success with images. For this code cell, you should implement the function `conv2d_maxpool` to apply convolution then max pooling:\n",
    "* Create the weight and bias using `conv_ksize`, `conv_num_outputs` and the shape of `x_tensor`.\n",
    "* Apply a convolution to `x_tensor` using weight and `conv_strides`.\n",
    " * We recommend you use same padding, but you're welcome to use any padding.\n",
    "* Add bias\n",
    "* Add a nonlinear activation to the convolution.\n",
    "* Apply Max Pooling using `pool_ksize` and `pool_strides`.\n",
    " * We recommend you use same padding, but you're welcome to use any padding.\n",
    "\n",
    "**Note:** You **can't** use [TensorFlow Layers](https://www.tensorflow.org/api_docs/python/tf/layers) or [TensorFlow Layers (contrib)](https://www.tensorflow.org/api_guides/python/contrib.layers) for **this** layer, but you can still use TensorFlow's [Neural Network](https://www.tensorflow.org/api_docs/python/tf/nn) package. You may still use the shortcut option for all the **other** layers."
   ]
  },
  {
   "cell_type": "code",
   "execution_count": 22,
   "metadata": {
    "collapsed": false,
    "deletable": true,
    "editable": true
   },
   "outputs": [
    {
     "name": "stdout",
     "output_type": "stream",
     "text": [
      "Tests Passed\n"
     ]
    }
   ],
   "source": [
    "def conv2d_maxpool(x_tensor, conv_num_outputs, conv_ksize, conv_strides, pool_ksize, pool_strides):\n",
    "    \"\"\"\n",
    "    Apply convolution then max pooling to x_tensor\n",
    "    :param x_tensor: TensorFlow Tensor\n",
    "    :param conv_num_outputs: Number of outputs for the convolutional layer\n",
    "    :param conv_ksize: kernal size 2-D Tuple for the convolutional layer\n",
    "    :param conv_strides: Stride 2-D Tuple for convolution\n",
    "    :param pool_ksize: kernal size 2-D Tuple for pool\n",
    "    :param pool_strides: Stride 2-D Tuple for pool\n",
    "    : return: A tensor that represents convolution and max pooling of x_tensor\n",
    "    \"\"\"\n",
    "    # Let's get the shape from the tensor\n",
    "    shape = x_tensor.get_shape().as_list()\n",
    "    \n",
    "    # weights are built from conv_ksize + depth extracted from the shape + conv_num_outputs\n",
    "    # Let's add a tiny standard deviation\n",
    "    weights = tf.Variable(tf.truncated_normal([conv_ksize[0], conv_ksize[1], shape[3], conv_num_outputs],stddev=0.05, mean=0)) # (height, width, input_depth, output_depth)\n",
    "    \n",
    "    # The biases are built with the conv_num_outputs\n",
    "    biases = tf.Variable(tf.zeros(conv_num_outputs))\n",
    "    \n",
    "    conv_layer = tf.nn.conv2d(x_tensor, weights, [1, conv_strides[0], conv_strides[1], 1], padding='SAME')\n",
    "    conv_layer = tf.nn.bias_add(conv_layer, biases)\n",
    "    conv_layer = tf.nn.relu(conv_layer)\n",
    "    pool_max_layer = tf.nn.max_pool(conv_layer,[1, pool_ksize[0], pool_ksize[1], 1],[1, pool_strides[0], pool_strides[1], 1],padding='SAME')\n",
    "    \n",
    "    return pool_max_layer\n",
    "    \n",
    "\n",
    "\"\"\"\n",
    "DON'T MODIFY ANYTHING IN THIS CELL THAT IS BELOW THIS LINE\n",
    "\"\"\"\n",
    "tests.test_con_pool(conv2d_maxpool)"
   ]
  },
  {
   "cell_type": "markdown",
   "metadata": {
    "deletable": true,
    "editable": true
   },
   "source": [
    "### Flatten Layer\n",
    "Implement the `flatten` function to change the dimension of `x_tensor` from a 4-D tensor to a 2-D tensor.  The output should be the shape (*Batch Size*, *Flattened Image Size*). Shortcut option: you can use classes from the [TensorFlow Layers](https://www.tensorflow.org/api_docs/python/tf/layers) or [TensorFlow Layers (contrib)](https://www.tensorflow.org/api_guides/python/contrib.layers) packages for this layer. For more of a challenge, only use other TensorFlow packages."
   ]
  },
  {
   "cell_type": "code",
   "execution_count": 23,
   "metadata": {
    "collapsed": false,
    "deletable": true,
    "editable": true
   },
   "outputs": [
    {
     "name": "stdout",
     "output_type": "stream",
     "text": [
      "Tests Passed\n"
     ]
    }
   ],
   "source": [
    "def flatten(x_tensor):\n",
    "    \"\"\"\n",
    "    Flatten x_tensor to (Batch Size, Flattened Image Size)\n",
    "    : x_tensor: A tensor of size (Batch Size, ...), where ... are the image dimensions.\n",
    "    : return: A tensor of size (Batch Size, Flattened Image Size).\n",
    "    \"\"\"\n",
    "    # TODO: Implement Function\n",
    "    shape = x_tensor.get_shape().as_list()\n",
    "    flattened_image_size = int(shape[1] * shape[2] * shape[3])\n",
    "\n",
    "    return tf.reshape(x_tensor, [-1, flattened_image_size])\n",
    "\n",
    "\n",
    "\"\"\"\n",
    "DON'T MODIFY ANYTHING IN THIS CELL THAT IS BELOW THIS LINE\n",
    "\"\"\"\n",
    "tests.test_flatten(flatten)"
   ]
  },
  {
   "cell_type": "markdown",
   "metadata": {
    "deletable": true,
    "editable": true
   },
   "source": [
    "### Fully-Connected Layer\n",
    "Implement the `fully_conn` function to apply a fully connected layer to `x_tensor` with the shape (*Batch Size*, *num_outputs*). Shortcut option: you can use classes from the [TensorFlow Layers](https://www.tensorflow.org/api_docs/python/tf/layers) or [TensorFlow Layers (contrib)](https://www.tensorflow.org/api_guides/python/contrib.layers) packages for this layer. For more of a challenge, only use other TensorFlow packages."
   ]
  },
  {
   "cell_type": "code",
   "execution_count": 24,
   "metadata": {
    "collapsed": false,
    "deletable": true,
    "editable": true
   },
   "outputs": [
    {
     "name": "stdout",
     "output_type": "stream",
     "text": [
      "Tests Passed\n"
     ]
    }
   ],
   "source": [
    "def fully_conn(x_tensor, num_outputs):\n",
    "    \"\"\"\n",
    "    Apply a fully connected layer to x_tensor using weight and bias\n",
    "    : x_tensor: A 2-D tensor where the first dimension is batch size.\n",
    "    : num_outputs: The number of output that the new tensor should be.\n",
    "    : return: A 2-D tensor where the second dimension is num_outputs.\n",
    "    \"\"\"\n",
    "    # TODO: Implement Function\n",
    "    shape = x_tensor.get_shape().as_list()\n",
    "    flattened_image_size = int(shape[1])\n",
    "    \n",
    "    fc = tf.add(\n",
    "        tf.matmul(x_tensor, tf.Variable(tf.random_normal([flattened_image_size, num_outputs]))), \n",
    "        tf.Variable(tf.random_normal([num_outputs])))\n",
    "    fc = tf.nn.relu(fc)\n",
    "    return fc\n",
    "\n",
    "\"\"\"\n",
    "DON'T MODIFY ANYTHING IN THIS CELL THAT IS BELOW THIS LINE\n",
    "\"\"\"\n",
    "tests.test_fully_conn(fully_conn)"
   ]
  },
  {
   "cell_type": "markdown",
   "metadata": {
    "deletable": true,
    "editable": true
   },
   "source": [
    "### Output Layer\n",
    "Implement the `output` function to apply a fully connected layer to `x_tensor` with the shape (*Batch Size*, *num_outputs*). Shortcut option: you can use classes from the [TensorFlow Layers](https://www.tensorflow.org/api_docs/python/tf/layers) or [TensorFlow Layers (contrib)](https://www.tensorflow.org/api_guides/python/contrib.layers) packages for this layer. For more of a challenge, only use other TensorFlow packages.\n",
    "\n",
    "**Note:** Activation, softmax, or cross entropy should **not** be applied to this."
   ]
  },
  {
   "cell_type": "code",
   "execution_count": 25,
   "metadata": {
    "collapsed": false,
    "deletable": true,
    "editable": true
   },
   "outputs": [
    {
     "name": "stdout",
     "output_type": "stream",
     "text": [
      "Tests Passed\n"
     ]
    }
   ],
   "source": [
    "def output(x_tensor, num_outputs):\n",
    "    \"\"\"\n",
    "    Apply a output layer to x_tensor using weight and bias\n",
    "    : x_tensor: A 2-D tensor where the first dimension is batch size.\n",
    "    : num_outputs: The number of output that the new tensor should be.\n",
    "    : return: A 2-D tensor where the second dimension is num_outputs.\n",
    "    \"\"\"\n",
    "    # TODO: Implement Function\n",
    "    shape = x_tensor.get_shape().as_list()\n",
    "    # print(shape)\n",
    "    flattened_image_size = int(shape[1])\n",
    "    out = tf.add(tf.matmul(x_tensor, tf.Variable(tf.truncated_normal([flattened_image_size, num_outputs],stddev=0.05, mean=0))), tf.Variable(tf.zeros([num_outputs])))\n",
    "    return out\n",
    "\n",
    "\n",
    "\"\"\"\n",
    "DON'T MODIFY ANYTHING IN THIS CELL THAT IS BELOW THIS LINE\n",
    "\"\"\"\n",
    "tests.test_output(output)"
   ]
  },
  {
   "cell_type": "markdown",
   "metadata": {
    "deletable": true,
    "editable": true
   },
   "source": [
    "### Create Convolutional Model\n",
    "Implement the function `conv_net` to create a convolutional neural network model. The function takes in a batch of images, `x`, and outputs logits.  Use the layers you created above to create this model:\n",
    "\n",
    "* Apply 1, 2, or 3 Convolution and Max Pool layers\n",
    "* Apply a Flatten Layer\n",
    "* Apply 1, 2, or 3 Fully Connected Layers\n",
    "* Apply an Output Layer\n",
    "* Return the output\n",
    "* Apply [TensorFlow's Dropout](https://www.tensorflow.org/api_docs/python/tf/nn/dropout) to one or more layers in the model using `keep_prob`. "
   ]
  },
  {
   "cell_type": "code",
   "execution_count": 129,
   "metadata": {
    "collapsed": false,
    "deletable": true,
    "editable": true
   },
   "outputs": [
    {
     "name": "stdout",
     "output_type": "stream",
     "text": [
      "Neural Network Built!\n"
     ]
    }
   ],
   "source": [
    "def conv_net(x, keep_prob):\n",
    "    \"\"\"\n",
    "    Create a convolutional neural network model\n",
    "    : x: Placeholder tensor that holds image data.\n",
    "    : keep_prob: Placeholder tensor that hold dropout keep probability.\n",
    "    : return: Tensor that represents logits\n",
    "    \"\"\"\n",
    "    conv_num_outputs = 32\n",
    "    conv_ksize = (3,3)\n",
    "    conv_strides = (1,1)\n",
    "    pool_ksize = (3,3)\n",
    "    pool_strides = (1,1)\n",
    "    \n",
    "    # Layer 1 - 32x32x3 to 16x16x\n",
    "    conv = conv2d_maxpool(x, conv_num_outputs, conv_ksize, conv_strides, pool_ksize, pool_strides)\n",
    "\n",
    "    conv_num_outputs = 32\n",
    "    conv_ksize = (2,2)\n",
    "    conv_strides = (1,1)\n",
    "    pool_ksize = (2,2)\n",
    "    pool_strides = (1,1)\n",
    "    # Layer 2 - 16x16x to 8x8x\n",
    "    conv = conv2d_maxpool(conv, conv_num_outputs, conv_ksize, conv_strides, pool_ksize, pool_strides)\n",
    "    \n",
    "    conv_num_outputs = 32\n",
    "    conv_ksize = (2,2)\n",
    "    conv_strides = (1,1)\n",
    "    pool_ksize = (2,2)\n",
    "    pool_strides = (1,1)\n",
    "    # Layer 2 - 16x16x to 8x8x\n",
    "    conv = conv2d_maxpool(conv, conv_num_outputs, conv_ksize, conv_strides, pool_ksize, pool_strides)\n",
    "    \n",
    "    # TODO: Apply a Flatten Layer\n",
    "    flatten_layer = flatten(conv)\n",
    "    \n",
    "    # Fully connected layer - 7*7*64 to 1024\n",
    "\n",
    "    fc = fully_conn(flatten_layer, 32)\n",
    "    fc = tf.nn.dropout(fc, keep_prob)\n",
    "    fc = fully_conn(flatten_layer, 16)\n",
    "    fc = tf.nn.dropout(fc, keep_prob)\n",
    "    fc = fully_conn(flatten_layer, 8)\n",
    "\n",
    "    return output(fc, 10)\n",
    "\n",
    "\n",
    "\"\"\"\n",
    "DON'T MODIFY ANYTHING IN THIS CELL THAT IS BELOW THIS LINE\n",
    "\"\"\"\n",
    "\n",
    "##############################\n",
    "## Build the Neural Network ##\n",
    "##############################\n",
    "\n",
    "# Remove previous weights, bias, inputs, etc..\n",
    "tf.reset_default_graph()\n",
    "\n",
    "# Inputs\n",
    "x = neural_net_image_input((32, 32, 3))\n",
    "y = neural_net_label_input(10)\n",
    "keep_prob = neural_net_keep_prob_input()\n",
    "\n",
    "# Model\n",
    "logits = conv_net(x, keep_prob)\n",
    "\n",
    "# Name logits Tensor, so that is can be loaded from disk after training\n",
    "logits = tf.identity(logits, name='logits')\n",
    "\n",
    "# Loss and Optimizer\n",
    "cost = tf.reduce_mean(tf.nn.softmax_cross_entropy_with_logits(logits=logits, labels=y))\n",
    "optimizer = tf.train.AdamOptimizer().minimize(cost)\n",
    "\n",
    "# Accuracy\n",
    "correct_pred = tf.equal(tf.argmax(logits, 1), tf.argmax(y, 1))\n",
    "accuracy = tf.reduce_mean(tf.cast(correct_pred, tf.float32), name='accuracy')\n",
    "\n",
    "tests.test_conv_net(conv_net)"
   ]
  },
  {
   "cell_type": "markdown",
   "metadata": {
    "deletable": true,
    "editable": true
   },
   "source": [
    "## Train the Neural Network\n",
    "### Single Optimization\n",
    "Implement the function `train_neural_network` to do a single optimization.  The optimization should use `optimizer` to optimize in `session` with a `feed_dict` of the following:\n",
    "* `x` for image input\n",
    "* `y` for labels\n",
    "* `keep_prob` for keep probability for dropout\n",
    "\n",
    "This function will be called for each batch, so `tf.global_variables_initializer()` has already been called.\n",
    "\n",
    "Note: Nothing needs to be returned. This function is only optimizing the neural network."
   ]
  },
  {
   "cell_type": "code",
   "execution_count": 130,
   "metadata": {
    "collapsed": false,
    "deletable": true,
    "editable": true
   },
   "outputs": [
    {
     "name": "stdout",
     "output_type": "stream",
     "text": [
      "Tests Passed\n"
     ]
    }
   ],
   "source": [
    "def train_neural_network(session, optimizer, keep_probability, feature_batch, label_batch):\n",
    "    \"\"\"\n",
    "    Optimize the session on a batch of images and labels\n",
    "    : session: Current TensorFlow session\n",
    "    : optimizer: TensorFlow optimizer function\n",
    "    : keep_probability: keep probability\n",
    "    : feature_batch: Batch of Numpy image data\n",
    "    : label_batch: Batch of Numpy label data\n",
    "    \"\"\"\n",
    "    # TODO: Implement Function\n",
    "    session.run(optimizer, feed_dict={x: feature_batch, y: label_batch, keep_prob: keep_probability})\n",
    "\n",
    "\n",
    "\"\"\"\n",
    "DON'T MODIFY ANYTHING IN THIS CELL THAT IS BELOW THIS LINE\n",
    "\"\"\"\n",
    "tests.test_train_nn(train_neural_network)"
   ]
  },
  {
   "cell_type": "markdown",
   "metadata": {
    "deletable": true,
    "editable": true
   },
   "source": [
    "### Show Stats\n",
    "Implement the function `print_stats` to print loss and validation accuracy.  Use the global variables `valid_features` and `valid_labels` to calculate validation accuracy.  Use a keep probability of `1.0` to calculate the loss and validation accuracy."
   ]
  },
  {
   "cell_type": "code",
   "execution_count": 131,
   "metadata": {
    "collapsed": false,
    "deletable": true,
    "editable": true
   },
   "outputs": [],
   "source": [
    "def print_stats(session, feature_batch, label_batch, cost, accuracy):\n",
    "    \"\"\"\n",
    "    Print information about loss and validation accuracy\n",
    "    : session: Current TensorFlow session\n",
    "    : feature_batch: Batch of Numpy image data\n",
    "    : label_batch: Batch of Numpy label data\n",
    "    : cost: TensorFlow cost function\n",
    "    : accuracy: TensorFlow accuracy function\n",
    "    \"\"\"\n",
    "    # TODO: Implement Function\n",
    "    loss = session.run(cost, feed_dict={x: feature_batch, y: label_batch, keep_prob: 1.0})\n",
    "    accuracy = session.run(accuracy, feed_dict={x: valid_features, y: valid_labels, keep_prob: 1.0})\n",
    "    print(\"Loss: {}\".format(loss))\n",
    "    print(\"Accuracy: {}\".format(accuracy))"
   ]
  },
  {
   "cell_type": "markdown",
   "metadata": {
    "deletable": true,
    "editable": true
   },
   "source": [
    "### Hyperparameters\n",
    "Tune the following parameters:\n",
    "* Set `epochs` to the number of iterations until the network stops learning or start overfitting\n",
    "* Set `batch_size` to the highest number that your machine has memory for.  Most people set them to common sizes of memory:\n",
    " * 64\n",
    " * 128\n",
    " * 256\n",
    " * ...\n",
    "* Set `keep_probability` to the probability of keeping a node using dropout"
   ]
  },
  {
   "cell_type": "code",
   "execution_count": 132,
   "metadata": {
    "collapsed": true,
    "deletable": true,
    "editable": true
   },
   "outputs": [],
   "source": [
    "# TODO: Tune Parameters\n",
    "epochs = 50\n",
    "batch_size = 1024\n",
    "keep_probability = 0.5"
   ]
  },
  {
   "cell_type": "markdown",
   "metadata": {
    "deletable": true,
    "editable": true
   },
   "source": [
    "### Train on a Single CIFAR-10 Batch\n",
    "Instead of training the neural network on all the CIFAR-10 batches of data, let's use a single batch. This should save time while you iterate on the model to get a better accuracy.  Once the final validation accuracy is 50% or greater, run the model on all the data in the next section."
   ]
  },
  {
   "cell_type": "code",
   "execution_count": 133,
   "metadata": {
    "collapsed": false,
    "deletable": true,
    "editable": true
   },
   "outputs": [
    {
     "name": "stdout",
     "output_type": "stream",
     "text": [
      "Checking the Training on a Single Batch...\n",
      "Epoch  1, CIFAR-10 Batch 1:  Loss: 2.2807106971740723\n",
      "Accuracy: 0.10119999945163727\n",
      "Epoch  2, CIFAR-10 Batch 1:  Loss: 2.2452752590179443\n",
      "Accuracy: 0.15160000324249268\n",
      "Epoch  3, CIFAR-10 Batch 1:  Loss: 2.1852967739105225\n",
      "Accuracy: 0.1761999875307083\n",
      "Epoch  4, CIFAR-10 Batch 1:  Loss: 2.1136114597320557\n",
      "Accuracy: 0.2061999887228012\n",
      "Epoch  5, CIFAR-10 Batch 1:  Loss: 2.0615530014038086\n",
      "Accuracy: 0.2314000129699707\n",
      "Epoch  6, CIFAR-10 Batch 1:  Loss: 2.0160372257232666\n",
      "Accuracy: 0.25099998712539673\n",
      "Epoch  7, CIFAR-10 Batch 1:  Loss: 1.9818685054779053\n",
      "Accuracy: 0.26980000734329224\n",
      "Epoch  8, CIFAR-10 Batch 1:  Loss: 1.956864356994629\n",
      "Accuracy: 0.29339998960494995\n",
      "Epoch  9, CIFAR-10 Batch 1:  Loss: 1.9264345169067383\n",
      "Accuracy: 0.29980000853538513\n",
      "Epoch 10, CIFAR-10 Batch 1:  Loss: 1.8942155838012695\n",
      "Accuracy: 0.3118000030517578\n",
      "Epoch 11, CIFAR-10 Batch 1:  Loss: 1.8195879459381104\n",
      "Accuracy: 0.34279996156692505\n",
      "Epoch 12, CIFAR-10 Batch 1:  Loss: 1.7602124214172363\n",
      "Accuracy: 0.3577999770641327\n",
      "Epoch 13, CIFAR-10 Batch 1:  Loss: 1.7194857597351074\n",
      "Accuracy: 0.3744000196456909\n",
      "Epoch 14, CIFAR-10 Batch 1:  Loss: 1.6734039783477783\n",
      "Accuracy: 0.3863999545574188\n",
      "Epoch 15, CIFAR-10 Batch 1:  Loss: 1.6461936235427856\n",
      "Accuracy: 0.39059996604919434\n",
      "Epoch 16, CIFAR-10 Batch 1:  Loss: 1.6322145462036133\n",
      "Accuracy: 0.400799959897995\n",
      "Epoch 17, CIFAR-10 Batch 1:  Loss: 1.5888172388076782\n",
      "Accuracy: 0.4189999997615814\n",
      "Epoch 18, CIFAR-10 Batch 1:  Loss: 1.5597891807556152\n",
      "Accuracy: 0.43140000104904175\n",
      "Epoch 19, CIFAR-10 Batch 1:  Loss: 1.5290690660476685\n",
      "Accuracy: 0.4367999732494354\n",
      "Epoch 20, CIFAR-10 Batch 1:  Loss: 1.5047283172607422\n",
      "Accuracy: 0.4407999515533447\n",
      "Epoch 21, CIFAR-10 Batch 1:  Loss: 1.4760408401489258\n",
      "Accuracy: 0.44739997386932373\n",
      "Epoch 22, CIFAR-10 Batch 1:  Loss: 1.4550085067749023\n",
      "Accuracy: 0.45799997448921204\n",
      "Epoch 23, CIFAR-10 Batch 1:  Loss: 1.4334125518798828\n",
      "Accuracy: 0.46119996905326843\n",
      "Epoch 24, CIFAR-10 Batch 1:  Loss: 1.4135220050811768\n",
      "Accuracy: 0.4655999541282654\n",
      "Epoch 25, CIFAR-10 Batch 1:  Loss: 1.3955103158950806\n",
      "Accuracy: 0.47419995069503784\n",
      "Epoch 26, CIFAR-10 Batch 1:  Loss: 1.380165457725525\n",
      "Accuracy: 0.47819995880126953\n",
      "Epoch 27, CIFAR-10 Batch 1:  Loss: 1.3704978227615356\n",
      "Accuracy: 0.4761999249458313\n",
      "Epoch 28, CIFAR-10 Batch 1:  Loss: 1.3869576454162598\n",
      "Accuracy: 0.4633999764919281\n",
      "Epoch 29, CIFAR-10 Batch 1:  Loss: 1.3457872867584229\n",
      "Accuracy: 0.4811999499797821\n",
      "Epoch 30, CIFAR-10 Batch 1:  Loss: 1.3258085250854492\n",
      "Accuracy: 0.49059996008872986\n",
      "Epoch 31, CIFAR-10 Batch 1:  Loss: 1.322105884552002\n",
      "Accuracy: 0.49059993028640747\n",
      "Epoch 32, CIFAR-10 Batch 1:  Loss: 1.3095120191574097\n",
      "Accuracy: 0.4941999316215515\n",
      "Epoch 33, CIFAR-10 Batch 1:  Loss: 1.2903977632522583\n",
      "Accuracy: 0.5029999613761902\n",
      "Epoch 34, CIFAR-10 Batch 1:  Loss: 1.2826546430587769\n",
      "Accuracy: 0.500999927520752\n",
      "Epoch 35, CIFAR-10 Batch 1:  Loss: 1.271728754043579\n",
      "Accuracy: 0.5023999810218811\n",
      "Epoch 36, CIFAR-10 Batch 1:  Loss: 1.257135272026062\n",
      "Accuracy: 0.50819993019104\n",
      "Epoch 37, CIFAR-10 Batch 1:  Loss: 1.255386471748352\n",
      "Accuracy: 0.504599928855896\n",
      "Epoch 38, CIFAR-10 Batch 1:  Loss: 1.2496817111968994\n",
      "Accuracy: 0.502799928188324\n",
      "Epoch 39, CIFAR-10 Batch 1:  Loss: 1.2249870300292969\n",
      "Accuracy: 0.5115999579429626\n",
      "Epoch 40, CIFAR-10 Batch 1:  Loss: 1.2242169380187988\n",
      "Accuracy: 0.506399929523468\n",
      "Epoch 41, CIFAR-10 Batch 1:  Loss: 1.2129930257797241\n",
      "Accuracy: 0.5071999430656433\n",
      "Epoch 42, CIFAR-10 Batch 1:  Loss: 1.2024184465408325\n",
      "Accuracy: 0.5071999430656433\n",
      "Epoch 43, CIFAR-10 Batch 1:  Loss: 1.1939254999160767\n",
      "Accuracy: 0.507599949836731\n",
      "Epoch 44, CIFAR-10 Batch 1:  Loss: 1.1857390403747559\n",
      "Accuracy: 0.5099999904632568\n",
      "Epoch 45, CIFAR-10 Batch 1:  Loss: 1.1798717975616455\n",
      "Accuracy: 0.5103999376296997\n",
      "Epoch 46, CIFAR-10 Batch 1:  Loss: 1.1734837293624878\n",
      "Accuracy: 0.5121999979019165\n",
      "Epoch 47, CIFAR-10 Batch 1:  Loss: 1.1657778024673462\n",
      "Accuracy: 0.5163999199867249\n",
      "Epoch 48, CIFAR-10 Batch 1:  Loss: 1.1633769273757935\n",
      "Accuracy: 0.5187999606132507\n",
      "Epoch 49, CIFAR-10 Batch 1:  Loss: 1.1583348512649536\n",
      "Accuracy: 0.5143999457359314\n",
      "Epoch 50, CIFAR-10 Batch 1:  Loss: 1.147682785987854\n",
      "Accuracy: 0.5179999470710754\n"
     ]
    }
   ],
   "source": [
    "\"\"\"\n",
    "DON'T MODIFY ANYTHING IN THIS CELL\n",
    "\"\"\"\n",
    "print('Checking the Training on a Single Batch...')\n",
    "with tf.Session() as sess:\n",
    "    # Initializing the variables\n",
    "    sess.run(tf.global_variables_initializer())\n",
    "    \n",
    "    # Training cycle\n",
    "    for epoch in range(epochs):\n",
    "        batch_i = 1\n",
    "        for batch_features, batch_labels in helper.load_preprocess_training_batch(batch_i, batch_size):\n",
    "            train_neural_network(sess, optimizer, keep_probability, batch_features, batch_labels)\n",
    "        print('Epoch {:>2}, CIFAR-10 Batch {}:  '.format(epoch + 1, batch_i), end='')\n",
    "        print_stats(sess, batch_features, batch_labels, cost, accuracy)"
   ]
  },
  {
   "cell_type": "markdown",
   "metadata": {
    "deletable": true,
    "editable": true
   },
   "source": [
    "### Fully Train the Model\n",
    "Now that you got a good accuracy with a single CIFAR-10 batch, try it with all five batches."
   ]
  },
  {
   "cell_type": "code",
   "execution_count": 134,
   "metadata": {
    "collapsed": false,
    "deletable": true,
    "editable": true
   },
   "outputs": [
    {
     "name": "stdout",
     "output_type": "stream",
     "text": [
      "Training...\n",
      "Epoch  1, CIFAR-10 Batch 1:  Loss: 2.269538640975952\n",
      "Accuracy: 0.14720000326633453\n",
      "Epoch  1, CIFAR-10 Batch 2:  Loss: 2.179914712905884\n",
      "Accuracy: 0.1939999908208847\n",
      "Epoch  1, CIFAR-10 Batch 3:  Loss: 2.0678324699401855\n",
      "Accuracy: 0.2085999995470047\n",
      "Epoch  1, CIFAR-10 Batch 4:  Loss: 2.001300573348999\n",
      "Accuracy: 0.23279999196529388\n",
      "Epoch  1, CIFAR-10 Batch 5:  Loss: 1.9734530448913574\n",
      "Accuracy: 0.2703999876976013\n",
      "Epoch  2, CIFAR-10 Batch 1:  Loss: 1.9717475175857544\n",
      "Accuracy: 0.2953999936580658\n",
      "Epoch  2, CIFAR-10 Batch 2:  Loss: 1.8900622129440308\n",
      "Accuracy: 0.3123999834060669\n",
      "Epoch  2, CIFAR-10 Batch 3:  Loss: 1.756631851196289\n",
      "Accuracy: 0.33660000562667847\n",
      "Epoch  2, CIFAR-10 Batch 4:  Loss: 1.774342656135559\n",
      "Accuracy: 0.3415999710559845\n",
      "Epoch  2, CIFAR-10 Batch 5:  Loss: 1.7288947105407715\n",
      "Accuracy: 0.35179999470710754\n",
      "Epoch  3, CIFAR-10 Batch 1:  Loss: 1.7295453548431396\n",
      "Accuracy: 0.36079999804496765\n",
      "Epoch  3, CIFAR-10 Batch 2:  Loss: 1.706262469291687\n",
      "Accuracy: 0.3739999830722809\n",
      "Epoch  3, CIFAR-10 Batch 3:  Loss: 1.5800758600234985\n",
      "Accuracy: 0.38119998574256897\n",
      "Epoch  3, CIFAR-10 Batch 4:  Loss: 1.6059138774871826\n",
      "Accuracy: 0.387999951839447\n",
      "Epoch  3, CIFAR-10 Batch 5:  Loss: 1.5987380743026733\n",
      "Accuracy: 0.40059995651245117\n",
      "Epoch  4, CIFAR-10 Batch 1:  Loss: 1.5708829164505005\n",
      "Accuracy: 0.41679996252059937\n",
      "Epoch  4, CIFAR-10 Batch 2:  Loss: 1.5867652893066406\n",
      "Accuracy: 0.41659998893737793\n",
      "Epoch  4, CIFAR-10 Batch 3:  Loss: 1.4724137783050537\n",
      "Accuracy: 0.4275999665260315\n",
      "Epoch  4, CIFAR-10 Batch 4:  Loss: 1.4892922639846802\n",
      "Accuracy: 0.42559999227523804\n",
      "Epoch  4, CIFAR-10 Batch 5:  Loss: 1.5115927457809448\n",
      "Accuracy: 0.44039997458457947\n",
      "Epoch  5, CIFAR-10 Batch 1:  Loss: 1.5080006122589111\n",
      "Accuracy: 0.4399999678134918\n",
      "Epoch  5, CIFAR-10 Batch 2:  Loss: 1.555171012878418\n",
      "Accuracy: 0.41739997267723083\n",
      "Epoch  5, CIFAR-10 Batch 3:  Loss: 1.4189023971557617\n",
      "Accuracy: 0.444599986076355\n",
      "Epoch  5, CIFAR-10 Batch 4:  Loss: 1.4411718845367432\n",
      "Accuracy: 0.45299994945526123\n",
      "Epoch  5, CIFAR-10 Batch 5:  Loss: 1.4563658237457275\n",
      "Accuracy: 0.46139997243881226\n",
      "Epoch  6, CIFAR-10 Batch 1:  Loss: 1.442732334136963\n",
      "Accuracy: 0.4621999263763428\n",
      "Epoch  6, CIFAR-10 Batch 2:  Loss: 1.452959656715393\n",
      "Accuracy: 0.4537999629974365\n",
      "Epoch  6, CIFAR-10 Batch 3:  Loss: 1.3392761945724487\n",
      "Accuracy: 0.4705999493598938\n",
      "Epoch  6, CIFAR-10 Batch 4:  Loss: 1.3823634386062622\n",
      "Accuracy: 0.4625999629497528\n",
      "Epoch  6, CIFAR-10 Batch 5:  Loss: 1.4157100915908813\n",
      "Accuracy: 0.47380000352859497\n",
      "Epoch  7, CIFAR-10 Batch 1:  Loss: 1.3973667621612549\n",
      "Accuracy: 0.4809999465942383\n",
      "Epoch  7, CIFAR-10 Batch 2:  Loss: 1.413670301437378\n",
      "Accuracy: 0.46939995884895325\n",
      "Epoch  7, CIFAR-10 Batch 3:  Loss: 1.3053898811340332\n",
      "Accuracy: 0.481999933719635\n",
      "Epoch  7, CIFAR-10 Batch 4:  Loss: 1.3311859369277954\n",
      "Accuracy: 0.4737999737262726\n",
      "Epoch  7, CIFAR-10 Batch 5:  Loss: 1.3654264211654663\n",
      "Accuracy: 0.488599956035614\n",
      "Epoch  8, CIFAR-10 Batch 1:  Loss: 1.3679624795913696\n",
      "Accuracy: 0.49459993839263916\n",
      "Epoch  8, CIFAR-10 Batch 2:  Loss: 1.3747828006744385\n",
      "Accuracy: 0.48539999127388\n",
      "Epoch  8, CIFAR-10 Batch 3:  Loss: 1.2749028205871582\n",
      "Accuracy: 0.4923999309539795\n",
      "Epoch  8, CIFAR-10 Batch 4:  Loss: 1.301841139793396\n",
      "Accuracy: 0.4785999655723572\n",
      "Epoch  8, CIFAR-10 Batch 5:  Loss: 1.339181900024414\n",
      "Accuracy: 0.48659995198249817\n",
      "Epoch  9, CIFAR-10 Batch 1:  Loss: 1.3278858661651611\n",
      "Accuracy: 0.5061999559402466\n",
      "Epoch  9, CIFAR-10 Batch 2:  Loss: 1.3465008735656738\n",
      "Accuracy: 0.4935999810695648\n",
      "Epoch  9, CIFAR-10 Batch 3:  Loss: 1.2414097785949707\n",
      "Accuracy: 0.5051999688148499\n",
      "Epoch  9, CIFAR-10 Batch 4:  Loss: 1.2715747356414795\n",
      "Accuracy: 0.49299994111061096\n",
      "Epoch  9, CIFAR-10 Batch 5:  Loss: 1.3057827949523926\n",
      "Accuracy: 0.4989999532699585\n",
      "Epoch 10, CIFAR-10 Batch 1:  Loss: 1.2954331636428833\n",
      "Accuracy: 0.5211999416351318\n",
      "Epoch 10, CIFAR-10 Batch 2:  Loss: 1.3085472583770752\n",
      "Accuracy: 0.5055999159812927\n",
      "Epoch 10, CIFAR-10 Batch 3:  Loss: 1.2151775360107422\n",
      "Accuracy: 0.5183999538421631\n",
      "Epoch 10, CIFAR-10 Batch 4:  Loss: 1.2426451444625854\n",
      "Accuracy: 0.5095999240875244\n",
      "Epoch 10, CIFAR-10 Batch 5:  Loss: 1.2760448455810547\n",
      "Accuracy: 0.5121999382972717\n",
      "Epoch 11, CIFAR-10 Batch 1:  Loss: 1.2734359502792358\n",
      "Accuracy: 0.5271999835968018\n",
      "Epoch 11, CIFAR-10 Batch 2:  Loss: 1.282850980758667\n",
      "Accuracy: 0.5051999688148499\n",
      "Epoch 11, CIFAR-10 Batch 3:  Loss: 1.1910412311553955\n",
      "Accuracy: 0.5287999510765076\n",
      "Epoch 11, CIFAR-10 Batch 4:  Loss: 1.2213785648345947\n",
      "Accuracy: 0.5175999402999878\n",
      "Epoch 11, CIFAR-10 Batch 5:  Loss: 1.248112440109253\n",
      "Accuracy: 0.520599901676178\n",
      "Epoch 12, CIFAR-10 Batch 1:  Loss: 1.2485952377319336\n",
      "Accuracy: 0.5295999646186829\n",
      "Epoch 12, CIFAR-10 Batch 2:  Loss: 1.2594530582427979\n",
      "Accuracy: 0.51419997215271\n",
      "Epoch 12, CIFAR-10 Batch 3:  Loss: 1.1728702783584595\n",
      "Accuracy: 0.5369999408721924\n",
      "Epoch 12, CIFAR-10 Batch 4:  Loss: 1.1988157033920288\n",
      "Accuracy: 0.5291999578475952\n",
      "Epoch 12, CIFAR-10 Batch 5:  Loss: 1.2199733257293701\n",
      "Accuracy: 0.5237999558448792\n",
      "Epoch 13, CIFAR-10 Batch 1:  Loss: 1.2251100540161133\n",
      "Accuracy: 0.5393999814987183\n",
      "Epoch 13, CIFAR-10 Batch 2:  Loss: 1.2383698225021362\n",
      "Accuracy: 0.5229999423027039\n",
      "Epoch 13, CIFAR-10 Batch 3:  Loss: 1.1556631326675415\n",
      "Accuracy: 0.5405999422073364\n",
      "Epoch 13, CIFAR-10 Batch 4:  Loss: 1.1780239343643188\n",
      "Accuracy: 0.535599946975708\n",
      "Epoch 13, CIFAR-10 Batch 5:  Loss: 1.191707730293274\n",
      "Accuracy: 0.5321999192237854\n",
      "Epoch 14, CIFAR-10 Batch 1:  Loss: 1.2031203508377075\n",
      "Accuracy: 0.5473998785018921\n",
      "Epoch 14, CIFAR-10 Batch 2:  Loss: 1.2127094268798828\n",
      "Accuracy: 0.5301998853683472\n",
      "Epoch 14, CIFAR-10 Batch 3:  Loss: 1.1443003416061401\n",
      "Accuracy: 0.5445998907089233\n",
      "Epoch 14, CIFAR-10 Batch 4:  Loss: 1.1604574918746948\n",
      "Accuracy: 0.5419999361038208\n",
      "Epoch 14, CIFAR-10 Batch 5:  Loss: 1.169530987739563\n",
      "Accuracy: 0.5347999334335327\n",
      "Epoch 15, CIFAR-10 Batch 1:  Loss: 1.1847599744796753\n",
      "Accuracy: 0.55159991979599\n",
      "Epoch 15, CIFAR-10 Batch 2:  Loss: 1.1949827671051025\n",
      "Accuracy: 0.5353999137878418\n",
      "Epoch 15, CIFAR-10 Batch 3:  Loss: 1.127363681793213\n",
      "Accuracy: 0.5487999320030212\n",
      "Epoch 15, CIFAR-10 Batch 4:  Loss: 1.142262578010559\n",
      "Accuracy: 0.5503999590873718\n",
      "Epoch 15, CIFAR-10 Batch 5:  Loss: 1.1469271183013916\n",
      "Accuracy: 0.5435999631881714\n",
      "Epoch 16, CIFAR-10 Batch 1:  Loss: 1.1681309938430786\n",
      "Accuracy: 0.5583999156951904\n",
      "Epoch 16, CIFAR-10 Batch 2:  Loss: 1.1769280433654785\n",
      "Accuracy: 0.5405999422073364\n",
      "Epoch 16, CIFAR-10 Batch 3:  Loss: 1.1131953001022339\n",
      "Accuracy: 0.5537999272346497\n",
      "Epoch 16, CIFAR-10 Batch 4:  Loss: 1.1252597570419312\n",
      "Accuracy: 0.556399941444397\n",
      "Epoch 16, CIFAR-10 Batch 5:  Loss: 1.1235249042510986\n",
      "Accuracy: 0.5529999136924744\n",
      "Epoch 17, CIFAR-10 Batch 1:  Loss: 1.1516423225402832\n",
      "Accuracy: 0.5659999251365662\n",
      "Epoch 17, CIFAR-10 Batch 2:  Loss: 1.1619322299957275\n",
      "Accuracy: 0.5471999645233154\n",
      "Epoch 17, CIFAR-10 Batch 3:  Loss: 1.0979516506195068\n",
      "Accuracy: 0.5603999495506287\n",
      "Epoch 17, CIFAR-10 Batch 4:  Loss: 1.108218789100647\n",
      "Accuracy: 0.5637999176979065\n",
      "Epoch 17, CIFAR-10 Batch 5:  Loss: 1.1047768592834473\n",
      "Accuracy: 0.5607999563217163\n",
      "Epoch 18, CIFAR-10 Batch 1:  Loss: 1.1388683319091797\n",
      "Accuracy: 0.5693999528884888\n",
      "Epoch 18, CIFAR-10 Batch 2:  Loss: 1.1408841609954834\n",
      "Accuracy: 0.5543999671936035\n",
      "Epoch 18, CIFAR-10 Batch 3:  Loss: 1.083844780921936\n",
      "Accuracy: 0.5667998790740967\n",
      "Epoch 18, CIFAR-10 Batch 4:  Loss: 1.0950361490249634\n",
      "Accuracy: 0.5701999664306641\n",
      "Epoch 18, CIFAR-10 Batch 5:  Loss: 1.0869972705841064\n",
      "Accuracy: 0.56659996509552\n",
      "Epoch 19, CIFAR-10 Batch 1:  Loss: 1.1260690689086914\n",
      "Accuracy: 0.5793998837471008\n",
      "Epoch 19, CIFAR-10 Batch 2:  Loss: 1.1310206651687622\n",
      "Accuracy: 0.5589998960494995\n",
      "Epoch 19, CIFAR-10 Batch 3:  Loss: 1.0661406517028809\n",
      "Accuracy: 0.5735998749732971\n",
      "Epoch 19, CIFAR-10 Batch 4:  Loss: 1.0777673721313477\n",
      "Accuracy: 0.5775999426841736\n",
      "Epoch 19, CIFAR-10 Batch 5:  Loss: 1.0666391849517822\n",
      "Accuracy: 0.5759999752044678\n",
      "Epoch 20, CIFAR-10 Batch 1:  Loss: 1.1101473569869995\n",
      "Accuracy: 0.5841999650001526\n",
      "Epoch 20, CIFAR-10 Batch 2:  Loss: 1.1180751323699951\n",
      "Accuracy: 0.5669999122619629\n",
      "Epoch 20, CIFAR-10 Batch 3:  Loss: 1.052284598350525\n",
      "Accuracy: 0.5769999027252197\n",
      "Epoch 20, CIFAR-10 Batch 4:  Loss: 1.0625147819519043\n",
      "Accuracy: 0.5861998796463013\n",
      "Epoch 20, CIFAR-10 Batch 5:  Loss: 1.0488383769989014\n",
      "Accuracy: 0.5851998925209045\n",
      "Epoch 21, CIFAR-10 Batch 1:  Loss: 1.0952749252319336\n",
      "Accuracy: 0.5907999277114868\n",
      "Epoch 21, CIFAR-10 Batch 2:  Loss: 1.108655333518982\n",
      "Accuracy: 0.5735999345779419\n",
      "Epoch 21, CIFAR-10 Batch 3:  Loss: 1.037453532218933\n",
      "Accuracy: 0.5809999108314514\n",
      "Epoch 21, CIFAR-10 Batch 4:  Loss: 1.0492570400238037\n",
      "Accuracy: 0.5907999277114868\n",
      "Epoch 21, CIFAR-10 Batch 5:  Loss: 1.0326007604599\n",
      "Accuracy: 0.5879999399185181\n",
      "Epoch 22, CIFAR-10 Batch 1:  Loss: 1.0825852155685425\n",
      "Accuracy: 0.5947998762130737\n",
      "Epoch 22, CIFAR-10 Batch 2:  Loss: 1.1036056280136108\n",
      "Accuracy: 0.5767998695373535\n",
      "Epoch 22, CIFAR-10 Batch 3:  Loss: 1.0256842374801636\n",
      "Accuracy: 0.5841999053955078\n",
      "Epoch 22, CIFAR-10 Batch 4:  Loss: 1.0364363193511963\n",
      "Accuracy: 0.5969998836517334\n",
      "Epoch 22, CIFAR-10 Batch 5:  Loss: 1.0167068243026733\n",
      "Accuracy: 0.5937999486923218\n",
      "Epoch 23, CIFAR-10 Batch 1:  Loss: 1.0701212882995605\n",
      "Accuracy: 0.6001999378204346\n",
      "Epoch 23, CIFAR-10 Batch 2:  Loss: 1.099018931388855\n",
      "Accuracy: 0.5791999101638794\n",
      "Epoch 23, CIFAR-10 Batch 3:  Loss: 1.0143495798110962\n",
      "Accuracy: 0.5869999527931213\n",
      "Epoch 23, CIFAR-10 Batch 4:  Loss: 1.025109052658081\n",
      "Accuracy: 0.6023999452590942\n",
      "Epoch 23, CIFAR-10 Batch 5:  Loss: 1.00347900390625\n",
      "Accuracy: 0.6019998788833618\n",
      "Epoch 24, CIFAR-10 Batch 1:  Loss: 1.0589625835418701\n",
      "Accuracy: 0.6063998937606812\n",
      "Epoch 24, CIFAR-10 Batch 2:  Loss: 1.0812848806381226\n",
      "Accuracy: 0.5913999080657959\n",
      "Epoch 24, CIFAR-10 Batch 3:  Loss: 1.0002139806747437\n",
      "Accuracy: 0.5941999554634094\n",
      "Epoch 24, CIFAR-10 Batch 4:  Loss: 1.023195743560791\n",
      "Accuracy: 0.6079999208450317\n",
      "Epoch 24, CIFAR-10 Batch 5:  Loss: 0.9972332119941711\n",
      "Accuracy: 0.6085999608039856\n",
      "Epoch 25, CIFAR-10 Batch 1:  Loss: 1.0503103733062744\n",
      "Accuracy: 0.611599862575531\n",
      "Epoch 25, CIFAR-10 Batch 2:  Loss: 1.0677382946014404\n",
      "Accuracy: 0.5955999493598938\n",
      "Epoch 25, CIFAR-10 Batch 3:  Loss: 0.987154483795166\n",
      "Accuracy: 0.6043999195098877\n",
      "Epoch 25, CIFAR-10 Batch 4:  Loss: 1.0207258462905884\n",
      "Accuracy: 0.6097999811172485\n",
      "Epoch 25, CIFAR-10 Batch 5:  Loss: 0.9832082986831665\n",
      "Accuracy: 0.6069998741149902\n",
      "Epoch 26, CIFAR-10 Batch 1:  Loss: 1.0451338291168213\n",
      "Accuracy: 0.6115999221801758\n",
      "Epoch 26, CIFAR-10 Batch 2:  Loss: 1.0529930591583252\n",
      "Accuracy: 0.6019999384880066\n",
      "Epoch 26, CIFAR-10 Batch 3:  Loss: 0.9850449562072754\n",
      "Accuracy: 0.6073999404907227\n",
      "Epoch 26, CIFAR-10 Batch 4:  Loss: 1.0107395648956299\n",
      "Accuracy: 0.6149998903274536\n",
      "Epoch 26, CIFAR-10 Batch 5:  Loss: 0.9705479145050049\n",
      "Accuracy: 0.6105998754501343\n",
      "Epoch 27, CIFAR-10 Batch 1:  Loss: 1.0389572381973267\n",
      "Accuracy: 0.6153998970985413\n",
      "Epoch 27, CIFAR-10 Batch 2:  Loss: 1.0303270816802979\n",
      "Accuracy: 0.6123998761177063\n",
      "Epoch 27, CIFAR-10 Batch 3:  Loss: 0.9794164896011353\n",
      "Accuracy: 0.6109999418258667\n",
      "Epoch 27, CIFAR-10 Batch 4:  Loss: 0.9940431714057922\n",
      "Accuracy: 0.6173999309539795\n",
      "Epoch 27, CIFAR-10 Batch 5:  Loss: 0.9637562036514282\n",
      "Accuracy: 0.6111999750137329\n",
      "Epoch 28, CIFAR-10 Batch 1:  Loss: 1.0326935052871704\n",
      "Accuracy: 0.6173999309539795\n",
      "Epoch 28, CIFAR-10 Batch 2:  Loss: 1.0121005773544312\n",
      "Accuracy: 0.619399905204773\n",
      "Epoch 28, CIFAR-10 Batch 3:  Loss: 0.986668050289154\n",
      "Accuracy: 0.6113999485969543\n",
      "Epoch 28, CIFAR-10 Batch 4:  Loss: 0.9818311929702759\n",
      "Accuracy: 0.6171998977661133\n",
      "Epoch 28, CIFAR-10 Batch 5:  Loss: 0.9558469653129578\n",
      "Accuracy: 0.614599883556366\n",
      "Epoch 29, CIFAR-10 Batch 1:  Loss: 1.025583028793335\n",
      "Accuracy: 0.6203998923301697\n",
      "Epoch 29, CIFAR-10 Batch 2:  Loss: 1.0023996829986572\n",
      "Accuracy: 0.624799907207489\n",
      "Epoch 29, CIFAR-10 Batch 3:  Loss: 0.9792497754096985\n",
      "Accuracy: 0.6129999160766602\n",
      "Epoch 29, CIFAR-10 Batch 4:  Loss: 0.9801228046417236\n",
      "Accuracy: 0.6167998909950256\n",
      "Epoch 29, CIFAR-10 Batch 5:  Loss: 0.9580086469650269\n",
      "Accuracy: 0.6161998510360718\n",
      "Epoch 30, CIFAR-10 Batch 1:  Loss: 1.0224648714065552\n",
      "Accuracy: 0.6177998781204224\n",
      "Epoch 30, CIFAR-10 Batch 2:  Loss: 0.9966654181480408\n",
      "Accuracy: 0.6283999085426331\n",
      "Epoch 30, CIFAR-10 Batch 3:  Loss: 0.957173228263855\n",
      "Accuracy: 0.6189998984336853\n",
      "Epoch 30, CIFAR-10 Batch 4:  Loss: 0.9701266288757324\n",
      "Accuracy: 0.6203998923301697\n",
      "Epoch 30, CIFAR-10 Batch 5:  Loss: 0.9520806670188904\n",
      "Accuracy: 0.6179999113082886\n",
      "Epoch 31, CIFAR-10 Batch 1:  Loss: 1.0169005393981934\n",
      "Accuracy: 0.6211999654769897\n",
      "Epoch 31, CIFAR-10 Batch 2:  Loss: 0.9893167614936829\n",
      "Accuracy: 0.6271999478340149\n",
      "Epoch 31, CIFAR-10 Batch 3:  Loss: 0.9470834136009216\n",
      "Accuracy: 0.6205999255180359\n",
      "Epoch 31, CIFAR-10 Batch 4:  Loss: 0.9614768028259277\n",
      "Accuracy: 0.6235999464988708\n",
      "Epoch 31, CIFAR-10 Batch 5:  Loss: 0.9437723755836487\n",
      "Accuracy: 0.6195999383926392\n",
      "Epoch 32, CIFAR-10 Batch 1:  Loss: 1.0080885887145996\n",
      "Accuracy: 0.6221998929977417\n",
      "Epoch 32, CIFAR-10 Batch 2:  Loss: 0.981784999370575\n",
      "Accuracy: 0.6297999024391174\n",
      "Epoch 32, CIFAR-10 Batch 3:  Loss: 0.9426786303520203\n",
      "Accuracy: 0.6215999126434326\n",
      "Epoch 32, CIFAR-10 Batch 4:  Loss: 0.9547874331474304\n",
      "Accuracy: 0.6237998604774475\n",
      "Epoch 32, CIFAR-10 Batch 5:  Loss: 0.9359421730041504\n",
      "Accuracy: 0.6203999519348145\n",
      "Epoch 33, CIFAR-10 Batch 1:  Loss: 1.0001559257507324\n",
      "Accuracy: 0.6243999004364014\n",
      "Epoch 33, CIFAR-10 Batch 2:  Loss: 0.9774950742721558\n",
      "Accuracy: 0.6311998963356018\n",
      "Epoch 33, CIFAR-10 Batch 3:  Loss: 0.934135913848877\n",
      "Accuracy: 0.6271998882293701\n",
      "Epoch 33, CIFAR-10 Batch 4:  Loss: 0.9469862580299377\n",
      "Accuracy: 0.6269999742507935\n",
      "Epoch 33, CIFAR-10 Batch 5:  Loss: 0.9281215667724609\n",
      "Accuracy: 0.6231999397277832\n",
      "Epoch 34, CIFAR-10 Batch 1:  Loss: 0.9921766519546509\n",
      "Accuracy: 0.626599907875061\n",
      "Epoch 34, CIFAR-10 Batch 2:  Loss: 0.9721935391426086\n",
      "Accuracy: 0.6319998502731323\n",
      "Epoch 34, CIFAR-10 Batch 3:  Loss: 0.9288648962974548\n",
      "Accuracy: 0.6291999816894531\n",
      "Epoch 34, CIFAR-10 Batch 4:  Loss: 0.9390394687652588\n",
      "Accuracy: 0.6309999227523804\n",
      "Epoch 34, CIFAR-10 Batch 5:  Loss: 0.917927622795105\n",
      "Accuracy: 0.624799907207489\n",
      "Epoch 35, CIFAR-10 Batch 1:  Loss: 0.985305666923523\n",
      "Accuracy: 0.6283999681472778\n",
      "Epoch 35, CIFAR-10 Batch 2:  Loss: 0.966184139251709\n",
      "Accuracy: 0.6325998902320862\n",
      "Epoch 35, CIFAR-10 Batch 3:  Loss: 0.9234269261360168\n",
      "Accuracy: 0.6317999362945557\n",
      "Epoch 35, CIFAR-10 Batch 4:  Loss: 0.9313923120498657\n",
      "Accuracy: 0.6363998651504517\n",
      "Epoch 35, CIFAR-10 Batch 5:  Loss: 0.9092024564743042\n",
      "Accuracy: 0.6253999471664429\n",
      "Epoch 36, CIFAR-10 Batch 1:  Loss: 0.9772690534591675\n",
      "Accuracy: 0.6325998902320862\n",
      "Epoch 36, CIFAR-10 Batch 2:  Loss: 0.9595186710357666\n",
      "Accuracy: 0.6329998970031738\n",
      "Epoch 36, CIFAR-10 Batch 3:  Loss: 0.9197285771369934\n",
      "Accuracy: 0.631399929523468\n",
      "Epoch 36, CIFAR-10 Batch 4:  Loss: 0.9254865646362305\n",
      "Accuracy: 0.6373999118804932\n",
      "Epoch 36, CIFAR-10 Batch 5:  Loss: 0.9002031683921814\n",
      "Accuracy: 0.627599835395813\n",
      "Epoch 37, CIFAR-10 Batch 1:  Loss: 0.9695343971252441\n",
      "Accuracy: 0.6347999572753906\n",
      "Epoch 37, CIFAR-10 Batch 2:  Loss: 0.95280921459198\n",
      "Accuracy: 0.634399950504303\n",
      "Epoch 37, CIFAR-10 Batch 3:  Loss: 0.917828381061554\n",
      "Accuracy: 0.6343998908996582\n",
      "Epoch 37, CIFAR-10 Batch 4:  Loss: 0.9212559461593628\n",
      "Accuracy: 0.6369998455047607\n",
      "Epoch 37, CIFAR-10 Batch 5:  Loss: 0.8945475816726685\n",
      "Accuracy: 0.6307998895645142\n",
      "Epoch 38, CIFAR-10 Batch 1:  Loss: 0.9632421731948853\n",
      "Accuracy: 0.637799859046936\n",
      "Epoch 38, CIFAR-10 Batch 2:  Loss: 0.9478309154510498\n",
      "Accuracy: 0.6355999112129211\n",
      "Epoch 38, CIFAR-10 Batch 3:  Loss: 0.9120287895202637\n",
      "Accuracy: 0.6353998780250549\n",
      "Epoch 38, CIFAR-10 Batch 4:  Loss: 0.9172946810722351\n",
      "Accuracy: 0.6383998990058899\n",
      "Epoch 38, CIFAR-10 Batch 5:  Loss: 0.8885126113891602\n",
      "Accuracy: 0.6339998841285706\n",
      "Epoch 39, CIFAR-10 Batch 1:  Loss: 0.9573789834976196\n",
      "Accuracy: 0.6387999057769775\n",
      "Epoch 39, CIFAR-10 Batch 2:  Loss: 0.942115843296051\n",
      "Accuracy: 0.6381998658180237\n",
      "Epoch 39, CIFAR-10 Batch 3:  Loss: 0.902630627155304\n",
      "Accuracy: 0.637799859046936\n",
      "Epoch 39, CIFAR-10 Batch 4:  Loss: 0.9106054306030273\n",
      "Accuracy: 0.6375999450683594\n",
      "Epoch 39, CIFAR-10 Batch 5:  Loss: 0.8833308219909668\n",
      "Accuracy: 0.6363999247550964\n",
      "Epoch 40, CIFAR-10 Batch 1:  Loss: 0.9532713890075684\n",
      "Accuracy: 0.6401998996734619\n",
      "Epoch 40, CIFAR-10 Batch 2:  Loss: 0.9378516674041748\n",
      "Accuracy: 0.6405999064445496\n",
      "Epoch 40, CIFAR-10 Batch 3:  Loss: 0.8927257657051086\n",
      "Accuracy: 0.6405999660491943\n",
      "Epoch 40, CIFAR-10 Batch 4:  Loss: 0.902509868144989\n",
      "Accuracy: 0.6391999125480652\n",
      "Epoch 40, CIFAR-10 Batch 5:  Loss: 0.8770967721939087\n",
      "Accuracy: 0.6373998522758484\n",
      "Epoch 41, CIFAR-10 Batch 1:  Loss: 0.948002815246582\n",
      "Accuracy: 0.6431998610496521\n",
      "Epoch 41, CIFAR-10 Batch 2:  Loss: 0.9311982989311218\n",
      "Accuracy: 0.6419999003410339\n",
      "Epoch 41, CIFAR-10 Batch 3:  Loss: 0.8864359855651855\n",
      "Accuracy: 0.6413999199867249\n",
      "Epoch 41, CIFAR-10 Batch 4:  Loss: 0.8964858055114746\n",
      "Accuracy: 0.6405999660491943\n",
      "Epoch 41, CIFAR-10 Batch 5:  Loss: 0.8713553547859192\n",
      "Accuracy: 0.6383998394012451\n",
      "Epoch 42, CIFAR-10 Batch 1:  Loss: 0.9410167932510376\n",
      "Accuracy: 0.6423998475074768\n",
      "Epoch 42, CIFAR-10 Batch 2:  Loss: 0.9275495409965515\n",
      "Accuracy: 0.6431999206542969\n",
      "Epoch 42, CIFAR-10 Batch 3:  Loss: 0.883185088634491\n",
      "Accuracy: 0.6403998732566833\n",
      "Epoch 42, CIFAR-10 Batch 4:  Loss: 0.8906524181365967\n",
      "Accuracy: 0.6433998346328735\n",
      "Epoch 42, CIFAR-10 Batch 5:  Loss: 0.8666660785675049\n",
      "Accuracy: 0.6397998929023743\n",
      "Epoch 43, CIFAR-10 Batch 1:  Loss: 0.9322907328605652\n",
      "Accuracy: 0.6453998684883118\n",
      "Epoch 43, CIFAR-10 Batch 2:  Loss: 0.9233670234680176\n",
      "Accuracy: 0.644399881362915\n",
      "Epoch 43, CIFAR-10 Batch 3:  Loss: 0.8796301484107971\n",
      "Accuracy: 0.6421998739242554\n",
      "Epoch 43, CIFAR-10 Batch 4:  Loss: 0.8845072388648987\n",
      "Accuracy: 0.6463998556137085\n",
      "Epoch 43, CIFAR-10 Batch 5:  Loss: 0.8617852926254272\n",
      "Accuracy: 0.6387999057769775\n",
      "Epoch 44, CIFAR-10 Batch 1:  Loss: 0.9256870746612549\n",
      "Accuracy: 0.6463998556137085\n",
      "Epoch 44, CIFAR-10 Batch 2:  Loss: 0.9218478202819824\n",
      "Accuracy: 0.6441998481750488\n",
      "Epoch 44, CIFAR-10 Batch 3:  Loss: 0.8774200677871704\n",
      "Accuracy: 0.640799880027771\n",
      "Epoch 44, CIFAR-10 Batch 4:  Loss: 0.8810971975326538\n",
      "Accuracy: 0.6459999084472656\n",
      "Epoch 44, CIFAR-10 Batch 5:  Loss: 0.858957052230835\n",
      "Accuracy: 0.6411999464035034\n",
      "Epoch 45, CIFAR-10 Batch 1:  Loss: 0.9211454391479492\n",
      "Accuracy: 0.6475998759269714\n",
      "Epoch 45, CIFAR-10 Batch 2:  Loss: 0.9203172922134399\n",
      "Accuracy: 0.6451998949050903\n",
      "Epoch 45, CIFAR-10 Batch 3:  Loss: 0.8733647465705872\n",
      "Accuracy: 0.6427999138832092\n",
      "Epoch 45, CIFAR-10 Batch 4:  Loss: 0.8791936635971069\n",
      "Accuracy: 0.6467998623847961\n",
      "Epoch 45, CIFAR-10 Batch 5:  Loss: 0.8555797338485718\n",
      "Accuracy: 0.6427998542785645\n",
      "Epoch 46, CIFAR-10 Batch 1:  Loss: 0.9156917929649353\n",
      "Accuracy: 0.6483998894691467\n",
      "Epoch 46, CIFAR-10 Batch 2:  Loss: 0.9158797860145569\n",
      "Accuracy: 0.6457998752593994\n",
      "Epoch 46, CIFAR-10 Batch 3:  Loss: 0.8680920600891113\n",
      "Accuracy: 0.6427998542785645\n",
      "Epoch 46, CIFAR-10 Batch 4:  Loss: 0.8772220015525818\n",
      "Accuracy: 0.64739990234375\n",
      "Epoch 46, CIFAR-10 Batch 5:  Loss: 0.8509093523025513\n",
      "Accuracy: 0.6427999138832092\n",
      "Epoch 47, CIFAR-10 Batch 1:  Loss: 0.9103521108627319\n",
      "Accuracy: 0.6489998698234558\n",
      "Epoch 47, CIFAR-10 Batch 2:  Loss: 0.9131600260734558\n",
      "Accuracy: 0.6449998617172241\n",
      "Epoch 47, CIFAR-10 Batch 3:  Loss: 0.8657252192497253\n",
      "Accuracy: 0.643799901008606\n",
      "Epoch 47, CIFAR-10 Batch 4:  Loss: 0.8808580040931702\n",
      "Accuracy: 0.6453998684883118\n",
      "Epoch 47, CIFAR-10 Batch 5:  Loss: 0.8604952692985535\n",
      "Accuracy: 0.6431999206542969\n",
      "Epoch 48, CIFAR-10 Batch 1:  Loss: 0.9068737626075745\n",
      "Accuracy: 0.6503998637199402\n",
      "Epoch 48, CIFAR-10 Batch 2:  Loss: 0.9068471193313599\n",
      "Accuracy: 0.6501998901367188\n",
      "Epoch 48, CIFAR-10 Batch 3:  Loss: 0.8545699119567871\n",
      "Accuracy: 0.645599901676178\n",
      "Epoch 48, CIFAR-10 Batch 4:  Loss: 0.8811506628990173\n",
      "Accuracy: 0.6453998684883118\n",
      "Epoch 48, CIFAR-10 Batch 5:  Loss: 0.86607825756073\n",
      "Accuracy: 0.6403998732566833\n",
      "Epoch 49, CIFAR-10 Batch 1:  Loss: 0.9023652672767639\n",
      "Accuracy: 0.6543999314308167\n",
      "Epoch 49, CIFAR-10 Batch 2:  Loss: 0.9028459787368774\n",
      "Accuracy: 0.6507998704910278\n",
      "Epoch 49, CIFAR-10 Batch 3:  Loss: 0.8452860116958618\n",
      "Accuracy: 0.649199903011322\n",
      "Epoch 49, CIFAR-10 Batch 4:  Loss: 0.8670772910118103\n",
      "Accuracy: 0.6489999294281006\n",
      "Epoch 49, CIFAR-10 Batch 5:  Loss: 0.8542913794517517\n",
      "Accuracy: 0.644399881362915\n",
      "Epoch 50, CIFAR-10 Batch 1:  Loss: 0.8997649550437927\n",
      "Accuracy: 0.6543998718261719\n",
      "Epoch 50, CIFAR-10 Batch 2:  Loss: 0.8997218608856201\n",
      "Accuracy: 0.6495999097824097\n",
      "Epoch 50, CIFAR-10 Batch 3:  Loss: 0.8429417610168457\n",
      "Accuracy: 0.649199903011322\n",
      "Epoch 50, CIFAR-10 Batch 4:  Loss: 0.8662387728691101\n",
      "Accuracy: 0.6487998962402344\n",
      "Epoch 50, CIFAR-10 Batch 5:  Loss: 0.8426975607872009\n",
      "Accuracy: 0.6469998359680176\n"
     ]
    }
   ],
   "source": [
    "\"\"\"\n",
    "DON'T MODIFY ANYTHING IN THIS CELL\n",
    "\"\"\"\n",
    "save_model_path = './image_classification'\n",
    "\n",
    "print('Training...')\n",
    "with tf.Session() as sess:\n",
    "    # Initializing the variables\n",
    "    sess.run(tf.global_variables_initializer())\n",
    "    \n",
    "    # Training cycle\n",
    "    for epoch in range(epochs):\n",
    "        # Loop over all batches\n",
    "        n_batches = 5\n",
    "        for batch_i in range(1, n_batches + 1):\n",
    "            for batch_features, batch_labels in helper.load_preprocess_training_batch(batch_i, batch_size):\n",
    "                train_neural_network(sess, optimizer, keep_probability, batch_features, batch_labels)\n",
    "            print('Epoch {:>2}, CIFAR-10 Batch {}:  '.format(epoch + 1, batch_i), end='')\n",
    "            print_stats(sess, batch_features, batch_labels, cost, accuracy)\n",
    "            \n",
    "    # Save Model\n",
    "    saver = tf.train.Saver()\n",
    "    save_path = saver.save(sess, save_model_path)"
   ]
  },
  {
   "cell_type": "markdown",
   "metadata": {
    "deletable": true,
    "editable": true
   },
   "source": [
    "# Checkpoint\n",
    "The model has been saved to disk.\n",
    "## Test Model\n",
    "Test your model against the test dataset.  This will be your final accuracy. You should have an accuracy greater than 50%. If you don't, keep tweaking the model architecture and parameters."
   ]
  },
  {
   "cell_type": "code",
   "execution_count": 135,
   "metadata": {
    "collapsed": false,
    "deletable": true,
    "editable": true
   },
   "outputs": [
    {
     "name": "stdout",
     "output_type": "stream",
     "text": [
      "Testing Accuracy: 0.6477479219436646\n",
      "\n"
     ]
    },
    {
     "data": {
      "image/png": "[encoded data removed]",
      "text/plain": [
       "<matplotlib.figure.Figure at 0x7fe2ef6a8f60>"
      ]
     },
     "metadata": {
      "image/png": {
       "height": 319,
       "width": 355
      }
     },
     "output_type": "display_data"
    }
   ],
   "source": [
    "\"\"\"\n",
    "DON'T MODIFY ANYTHING IN THIS CELL\n",
    "\"\"\"\n",
    "%matplotlib inline\n",
    "%config InlineBackend.figure_format = 'retina'\n",
    "\n",
    "import tensorflow as tf\n",
    "import pickle\n",
    "import helper\n",
    "import random\n",
    "\n",
    "# Set batch size if not already set\n",
    "try:\n",
    "    if batch_size:\n",
    "        pass\n",
    "except NameError:\n",
    "    batch_size = 64\n",
    "\n",
    "save_model_path = './image_classification'\n",
    "n_samples = 4\n",
    "top_n_predictions = 3\n",
    "\n",
    "def test_model():\n",
    "    \"\"\"\n",
    "    Test the saved model against the test dataset\n",
    "    \"\"\"\n",
    "\n",
    "    test_features, test_labels = pickle.load(open('preprocess_training.p', mode='rb'))\n",
    "    loaded_graph = tf.Graph()\n",
    "\n",
    "    with tf.Session(graph=loaded_graph) as sess:\n",
    "        # Load model\n",
    "        loader = tf.train.import_meta_graph(save_model_path + '.meta')\n",
    "        loader.restore(sess, save_model_path)\n",
    "\n",
    "        # Get Tensors from loaded model\n",
    "        loaded_x = loaded_graph.get_tensor_by_name('x:0')\n",
    "        loaded_y = loaded_graph.get_tensor_by_name('y:0')\n",
    "        loaded_keep_prob = loaded_graph.get_tensor_by_name('keep_prob:0')\n",
    "        loaded_logits = loaded_graph.get_tensor_by_name('logits:0')\n",
    "        loaded_acc = loaded_graph.get_tensor_by_name('accuracy:0')\n",
    "        \n",
    "        # Get accuracy in batches for memory limitations\n",
    "        test_batch_acc_total = 0\n",
    "        test_batch_count = 0\n",
    "        \n",
    "        for train_feature_batch, train_label_batch in helper.batch_features_labels(test_features, test_labels, batch_size):\n",
    "            test_batch_acc_total += sess.run(\n",
    "                loaded_acc,\n",
    "                feed_dict={loaded_x: train_feature_batch, loaded_y: train_label_batch, loaded_keep_prob: 1.0})\n",
    "            test_batch_count += 1\n",
    "\n",
    "        print('Testing Accuracy: {}\\n'.format(test_batch_acc_total/test_batch_count))\n",
    "\n",
    "        # Print Random Samples\n",
    "        random_test_features, random_test_labels = tuple(zip(*random.sample(list(zip(test_features, test_labels)), n_samples)))\n",
    "        random_test_predictions = sess.run(\n",
    "            tf.nn.top_k(tf.nn.softmax(loaded_logits), top_n_predictions),\n",
    "            feed_dict={loaded_x: random_test_features, loaded_y: random_test_labels, loaded_keep_prob: 1.0})\n",
    "        helper.display_image_predictions(random_test_features, random_test_labels, random_test_predictions)\n",
    "\n",
    "\n",
    "test_model()"
   ]
  },
  {
   "cell_type": "markdown",
   "metadata": {
    "deletable": true,
    "editable": true
   },
   "source": [
    "## Why 50-70% Accuracy?\n",
    "You might be wondering why you can't get an accuracy any higher. First things first, 50% isn't bad for a simple CNN.  Pure guessing would get you 10% accuracy. However, you might notice people are getting scores [well above 70%](http://rodrigob.github.io/are_we_there_yet/build/classification_datasets_results.html#43494641522d3130).  That's because we haven't taught you all there is to know about neural networks. We still need to cover a few more techniques.\n",
    "## Submitting This Project\n",
    "When submitting this project, make sure to run all the cells before saving the notebook.  Save the notebook file as \"dlnd_image_classification.ipynb\" and save it as a HTML file under \"File\" -> \"Download as\".  Include the \"helper.py\" and \"problem_unittests.py\" files in your submission."
   ]
  }
 ],
 "metadata": {
  "kernelspec": {
   "display_name": "Python 3",
   "language": "python",
   "name": "python3"
  },
  "language_info": {
   "codemirror_mode": {
    "name": "ipython",
    "version": 3
   },
   "file_extension": ".py",
   "mimetype": "text/x-python",
   "name": "python",
   "nbconvert_exporter": "python",
   "pygments_lexer": "ipython3",
   "version": "3.5.2"
  },
  "widgets": {
   "state": {},
   "version": "1.1.2"
  }
 },
 "nbformat": 4,
 "nbformat_minor": 0
}
